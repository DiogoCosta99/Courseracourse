{
 "cells": [
  {
   "cell_type": "markdown",
   "id": "9f9bc7dd",
   "metadata": {},
   "source": [
    "# Data Science Tools and Ecosystem\n"
   ]
  },
  {
   "cell_type": "markdown",
   "id": "44b7fd17",
   "metadata": {},
   "source": [
    "In this notebook, Data Science Tools and Ecosyustem are summarized."
   ]
  },
  {
   "cell_type": "markdown",
   "id": "3ea8ba1c",
   "metadata": {},
   "source": [
    "**Objectives:**\n",
    "* List popular languages for Data Science\n",
    "* List commonly used libraries in Data Science\n",
    "* List commonly used tools in Data Science\n",
    "* List examples of arithmetic expressions in python\n"
   ]
  },
  {
   "cell_type": "markdown",
   "id": "bd8ed228",
   "metadata": {},
   "source": [
    "Some of the popular languages that Data Scientists use are:\n",
    "1. Python\n",
    "2. R \n",
    "3. Java\n"
   ]
  },
  {
   "cell_type": "markdown",
   "id": "9e26749c",
   "metadata": {},
   "source": [
    "Some of the commonly used libraries used by Data Scientist include:\n",
    "1. Pandas\n",
    "2. Numpys\n",
    "3. Matplotlib"
   ]
  },
  {
   "cell_type": "markdown",
   "id": "1818ffb4",
   "metadata": {},
   "source": [
    "Data Science tools  | \n",
    "------------- | \n",
    "Jupyter Notebook | \n",
    "RStudio  | \n",
    "Apache Zeppelin"
   ]
  },
  {
   "cell_type": "markdown",
   "id": "42d18b4f",
   "metadata": {},
   "source": [
    "### Below are a few examples of evaluating arithmetic expressions in python"
   ]
  },
  {
   "cell_type": "code",
   "execution_count": 1,
   "id": "244e2318",
   "metadata": {},
   "outputs": [
    {
     "data": {
      "text/plain": [
       "17"
      ]
     },
     "execution_count": 1,
     "metadata": {},
     "output_type": "execute_result"
    }
   ],
   "source": [
    "#This a simple arithmetic expression to mutiply then add integers\n",
    "(3*4) + 5"
   ]
  },
  {
   "cell_type": "code",
   "execution_count": 9,
   "id": "ead77864",
   "metadata": {},
   "outputs": [
    {
     "name": "stdout",
     "output_type": "stream",
     "text": [
      " 200 minutes is equal to 3.33 hours.\n"
     ]
    }
   ],
   "source": [
    "#  This will convert 200 minutes to hours by diving by 60\n",
    "\n",
    "print(f' {200} minutes is equal to {round(200/60,2)} hours.')"
   ]
  },
  {
   "cell_type": "markdown",
   "id": "82ce1243",
   "metadata": {},
   "source": [
    "## Author\n",
    "Diogo Costa"
   ]
  }
 ],
 "metadata": {
  "kernelspec": {
   "display_name": "Python 3 (ipykernel)",
   "language": "python",
   "name": "python3"
  },
  "language_info": {
   "codemirror_mode": {
    "name": "ipython",
    "version": 3
   },
   "file_extension": ".py",
   "mimetype": "text/x-python",
   "name": "python",
   "nbconvert_exporter": "python",
   "pygments_lexer": "ipython3",
   "version": "3.10.10"
  }
 },
 "nbformat": 4,
 "nbformat_minor": 5
}
